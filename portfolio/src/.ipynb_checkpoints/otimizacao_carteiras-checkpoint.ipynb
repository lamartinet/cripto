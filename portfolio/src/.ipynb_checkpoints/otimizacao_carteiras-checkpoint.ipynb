{
 "cells": [
  {
   "cell_type": "code",
   "execution_count": 1,
   "metadata": {
    "scrolled": true
   },
   "outputs": [],
   "source": [
    "import pandas as pd\n",
    "import numpy as np\n",
    "import plotly\n",
    "import plotly.graph_objects as go\n",
    "import plotly.express as px\n",
    "\n",
    "from scipy import optimize\n",
    "from scipy.optimize import LinearConstraint, Bounds\n",
    "%config InlineBackend.figure_format='retina'\n",
    "\n",
    "def carregar_dados():\n",
    "    precos = pd.read_csv(\"../dados/cotacoes-2021-jan-dez.csv\", index_col=0, parse_dates=True)\n",
    "    return precos\n",
    "\n",
    "def formatar_resultado(simbolos, pesos):\n",
    "    pesos_carteira = pesos * 100\n",
    "    carteira = pd.DataFrame(index=simbolos, columns=['peso'], data=pesos_carteira)\n",
    "    carteira = carteira[ carteira['peso'] > 0.1 ].sort_values(by='peso', ascending=False)\n",
    "    carteira['peso'] = carteira['peso'].round(2) \n",
    "    \n",
    "    return carteira\n",
    "\n",
    "def formatar_legenda(simbolos, pesos):\n",
    "    df = formatar_resultado(simbolos, pesos)\n",
    "    simb = df.index.tolist()\n",
    "    pesos_carteira = df['peso'].tolist()\n",
    "    carteira_str = ''\n",
    "    for i in range(len(simb)):\n",
    "        carteira_str = carteira_str + simb[i] + ': ' + \"%.2f\" % pesos_carteira[i]\n",
    "        carteira_str = (carteira_str + ' ') if i != len(simb) - 1 else carteira_str\n",
    "\n",
    "    return carteira_str\n",
    "\n",
    "def retorno_esperado(pesos):\n",
    "    retorno = np.sum(variacao_precos_log * pesos, axis=1) \n",
    "    return retorno.mean() # retorno diário médio da carteira (log)\n",
    "\n",
    "# função objetivo da otimização\n",
    "def volatilidade_carteira(pesos):\n",
    "    variacao_carteira = np.sum(variacao_precos_log * pesos, axis=1) # variação diária do valor da carteira\n",
    "    return variacao_carteira.std()\n",
    "    \n",
    "def volatilidade_negativa_carteira(pesos): # volatilidade dos dias de queda\n",
    "    variacao_carteira = np.sum(variacao_precos_log * pesos, axis=1) # variação diária do valor da carteira\n",
    "    variacao_carteira = variacao_carteira[variacao_carteira < 0] # pega apenas as variações negativas\n",
    "    return variacao_carteira.std()\n",
    "\n",
    "def calcular_variacao_precos_log(precos):\n",
    "    variacao = np.log(precos/precos.shift(1))\n",
    "    return variacao[1:]\n",
    "    \n",
    "def calcular_variacao_precos(precos):\n",
    "    variacao = precos/precos.shift(1) - 1\n",
    "    return variacao[1:]\n",
    "\n",
    "# def gerar_carteiras_aleatorias(qtd):\n",
    "#     for x in range(qtd):\n",
    "#         pesos_rdm = np.random.random(qtd_ativos)\n",
    "#         pesos_rdm = pesos_rdm / sum(pesos_rdm)\n",
    "#         retorno = retorno_carteira(pesos_rdm)\n",
    "#         volatilidade = volatilidade_carteira(pesos_rdm)\n",
    "#         frontier_x.append(volatilidade)\n",
    "#         frontier_y.append(retorno)\n",
    "#         sharpe_ratio.append(retorno / volatilidade)"
   ]
  },
  {
   "cell_type": "code",
   "execution_count": 2,
   "metadata": {
    "scrolled": true
   },
   "outputs": [],
   "source": [
    "precos = carregar_dados()\n",
    "simbolos = precos.columns.tolist()\n",
    "variacao_precos = calcular_variacao_precos(precos)\n",
    "variacao_precos_log = calcular_variacao_precos_log(precos)\n",
    "variacao_periodo = (precos.iloc[-1] - precos.iloc[0]) / precos.iloc[0]\n",
    "variacao_media = variacao_precos.mean() # variação média por ativo\n",
    "qtd_dias = variacao_precos.count()[0]\n",
    "qtd_ativos = len(simbolos)"
   ]
  },
  {
   "cell_type": "code",
   "execution_count": 3,
   "metadata": {},
   "outputs": [
    {
     "data": {
      "text/html": [
       "<div>\n",
       "<style scoped>\n",
       "    .dataframe tbody tr th:only-of-type {\n",
       "        vertical-align: middle;\n",
       "    }\n",
       "\n",
       "    .dataframe tbody tr th {\n",
       "        vertical-align: top;\n",
       "    }\n",
       "\n",
       "    .dataframe thead th {\n",
       "        text-align: right;\n",
       "    }\n",
       "</style>\n",
       "<table border=\"1\" class=\"dataframe\">\n",
       "  <thead>\n",
       "    <tr style=\"text-align: right;\">\n",
       "      <th></th>\n",
       "      <th>BTC</th>\n",
       "      <th>ETH</th>\n",
       "      <th>BNB</th>\n",
       "      <th>ADA</th>\n",
       "      <th>LINK</th>\n",
       "      <th>SOL</th>\n",
       "      <th>DOT</th>\n",
       "      <th>UNI</th>\n",
       "      <th>LUNA</th>\n",
       "      <th>AVAX</th>\n",
       "      <th>ALGO</th>\n",
       "      <th>ATOM</th>\n",
       "      <th>EGLD</th>\n",
       "      <th>LTC</th>\n",
       "      <th>CAKE</th>\n",
       "    </tr>\n",
       "    <tr>\n",
       "      <th>Date</th>\n",
       "      <th></th>\n",
       "      <th></th>\n",
       "      <th></th>\n",
       "      <th></th>\n",
       "      <th></th>\n",
       "      <th></th>\n",
       "      <th></th>\n",
       "      <th></th>\n",
       "      <th></th>\n",
       "      <th></th>\n",
       "      <th></th>\n",
       "      <th></th>\n",
       "      <th></th>\n",
       "      <th></th>\n",
       "      <th></th>\n",
       "    </tr>\n",
       "  </thead>\n",
       "  <tbody>\n",
       "    <tr>\n",
       "      <th>2021-01-01</th>\n",
       "      <td>29374.152344</td>\n",
       "      <td>730.367554</td>\n",
       "      <td>37.905010</td>\n",
       "      <td>0.175350</td>\n",
       "      <td>11.872555</td>\n",
       "      <td>1.842084</td>\n",
       "      <td>8.306819</td>\n",
       "      <td>4.736249</td>\n",
       "      <td>0.649443</td>\n",
       "      <td>3.664823</td>\n",
       "      <td>0.398129</td>\n",
       "      <td>5.868556</td>\n",
       "      <td>26.065042</td>\n",
       "      <td>126.230347</td>\n",
       "      <td>0.662068</td>\n",
       "    </tr>\n",
       "    <tr>\n",
       "      <th>2021-01-02</th>\n",
       "      <td>32127.267578</td>\n",
       "      <td>774.534973</td>\n",
       "      <td>38.241592</td>\n",
       "      <td>0.177423</td>\n",
       "      <td>12.220137</td>\n",
       "      <td>1.799275</td>\n",
       "      <td>9.208837</td>\n",
       "      <td>4.845214</td>\n",
       "      <td>0.631426</td>\n",
       "      <td>3.494940</td>\n",
       "      <td>0.408091</td>\n",
       "      <td>5.414613</td>\n",
       "      <td>25.891308</td>\n",
       "      <td>136.944885</td>\n",
       "      <td>0.616939</td>\n",
       "    </tr>\n",
       "    <tr>\n",
       "      <th>2021-01-03</th>\n",
       "      <td>32782.023438</td>\n",
       "      <td>975.507690</td>\n",
       "      <td>41.148979</td>\n",
       "      <td>0.204995</td>\n",
       "      <td>13.650172</td>\n",
       "      <td>2.161752</td>\n",
       "      <td>10.033283</td>\n",
       "      <td>5.447031</td>\n",
       "      <td>0.661895</td>\n",
       "      <td>3.472944</td>\n",
       "      <td>0.422767</td>\n",
       "      <td>5.813898</td>\n",
       "      <td>27.156723</td>\n",
       "      <td>160.190582</td>\n",
       "      <td>0.633083</td>\n",
       "    </tr>\n",
       "    <tr>\n",
       "      <th>2021-01-04</th>\n",
       "      <td>31971.914062</td>\n",
       "      <td>1040.233032</td>\n",
       "      <td>40.926353</td>\n",
       "      <td>0.224762</td>\n",
       "      <td>13.571063</td>\n",
       "      <td>2.485097</td>\n",
       "      <td>9.469611</td>\n",
       "      <td>5.406566</td>\n",
       "      <td>0.670244</td>\n",
       "      <td>3.590243</td>\n",
       "      <td>0.438666</td>\n",
       "      <td>5.996770</td>\n",
       "      <td>30.629923</td>\n",
       "      <td>154.807327</td>\n",
       "      <td>0.642997</td>\n",
       "    </tr>\n",
       "    <tr>\n",
       "      <th>2021-01-05</th>\n",
       "      <td>33992.429688</td>\n",
       "      <td>1100.006104</td>\n",
       "      <td>41.734600</td>\n",
       "      <td>0.258314</td>\n",
       "      <td>14.539868</td>\n",
       "      <td>2.157217</td>\n",
       "      <td>9.701656</td>\n",
       "      <td>6.279291</td>\n",
       "      <td>0.716674</td>\n",
       "      <td>4.237412</td>\n",
       "      <td>0.479429</td>\n",
       "      <td>6.216816</td>\n",
       "      <td>33.953747</td>\n",
       "      <td>158.594772</td>\n",
       "      <td>0.679435</td>\n",
       "    </tr>\n",
       "    <tr>\n",
       "      <th>...</th>\n",
       "      <td>...</td>\n",
       "      <td>...</td>\n",
       "      <td>...</td>\n",
       "      <td>...</td>\n",
       "      <td>...</td>\n",
       "      <td>...</td>\n",
       "      <td>...</td>\n",
       "      <td>...</td>\n",
       "      <td>...</td>\n",
       "      <td>...</td>\n",
       "      <td>...</td>\n",
       "      <td>...</td>\n",
       "      <td>...</td>\n",
       "      <td>...</td>\n",
       "      <td>...</td>\n",
       "    </tr>\n",
       "    <tr>\n",
       "      <th>2021-12-12</th>\n",
       "      <td>50098.335938</td>\n",
       "      <td>4134.453125</td>\n",
       "      <td>570.823975</td>\n",
       "      <td>1.347282</td>\n",
       "      <td>20.456585</td>\n",
       "      <td>173.431671</td>\n",
       "      <td>29.608980</td>\n",
       "      <td>16.017937</td>\n",
       "      <td>61.919449</td>\n",
       "      <td>88.109116</td>\n",
       "      <td>1.542000</td>\n",
       "      <td>24.574207</td>\n",
       "      <td>263.071075</td>\n",
       "      <td>159.203964</td>\n",
       "      <td>11.615931</td>\n",
       "    </tr>\n",
       "    <tr>\n",
       "      <th>2021-12-13</th>\n",
       "      <td>46737.480469</td>\n",
       "      <td>3784.226807</td>\n",
       "      <td>521.011597</td>\n",
       "      <td>1.225348</td>\n",
       "      <td>17.775459</td>\n",
       "      <td>155.213058</td>\n",
       "      <td>25.971106</td>\n",
       "      <td>14.148139</td>\n",
       "      <td>52.745789</td>\n",
       "      <td>79.149628</td>\n",
       "      <td>1.321398</td>\n",
       "      <td>21.760569</td>\n",
       "      <td>234.254059</td>\n",
       "      <td>144.535904</td>\n",
       "      <td>10.932409</td>\n",
       "    </tr>\n",
       "    <tr>\n",
       "      <th>2021-12-14</th>\n",
       "      <td>46612.632812</td>\n",
       "      <td>3745.440430</td>\n",
       "      <td>511.229370</td>\n",
       "      <td>1.222835</td>\n",
       "      <td>17.587616</td>\n",
       "      <td>153.341446</td>\n",
       "      <td>26.168419</td>\n",
       "      <td>14.979408</td>\n",
       "      <td>57.277336</td>\n",
       "      <td>87.311905</td>\n",
       "      <td>1.323860</td>\n",
       "      <td>21.213074</td>\n",
       "      <td>254.483795</td>\n",
       "      <td>146.078003</td>\n",
       "      <td>12.519122</td>\n",
       "    </tr>\n",
       "    <tr>\n",
       "      <th>2021-12-15</th>\n",
       "      <td>48896.722656</td>\n",
       "      <td>4018.388672</td>\n",
       "      <td>541.026978</td>\n",
       "      <td>1.311847</td>\n",
       "      <td>19.714485</td>\n",
       "      <td>178.340790</td>\n",
       "      <td>27.145760</td>\n",
       "      <td>15.180298</td>\n",
       "      <td>61.527020</td>\n",
       "      <td>101.181450</td>\n",
       "      <td>1.426744</td>\n",
       "      <td>22.295862</td>\n",
       "      <td>295.935181</td>\n",
       "      <td>153.515411</td>\n",
       "      <td>13.163462</td>\n",
       "    </tr>\n",
       "    <tr>\n",
       "      <th>2021-12-16</th>\n",
       "      <td>47665.425781</td>\n",
       "      <td>3962.469727</td>\n",
       "      <td>526.246521</td>\n",
       "      <td>1.240534</td>\n",
       "      <td>18.786173</td>\n",
       "      <td>176.954666</td>\n",
       "      <td>26.043077</td>\n",
       "      <td>14.421512</td>\n",
       "      <td>64.322968</td>\n",
       "      <td>98.401886</td>\n",
       "      <td>1.387747</td>\n",
       "      <td>21.753647</td>\n",
       "      <td>268.112030</td>\n",
       "      <td>148.941727</td>\n",
       "      <td>12.574617</td>\n",
       "    </tr>\n",
       "  </tbody>\n",
       "</table>\n",
       "<p>350 rows × 15 columns</p>\n",
       "</div>"
      ],
      "text/plain": [
       "                     BTC          ETH         BNB       ADA       LINK  \\\n",
       "Date                                                                     \n",
       "2021-01-01  29374.152344   730.367554   37.905010  0.175350  11.872555   \n",
       "2021-01-02  32127.267578   774.534973   38.241592  0.177423  12.220137   \n",
       "2021-01-03  32782.023438   975.507690   41.148979  0.204995  13.650172   \n",
       "2021-01-04  31971.914062  1040.233032   40.926353  0.224762  13.571063   \n",
       "2021-01-05  33992.429688  1100.006104   41.734600  0.258314  14.539868   \n",
       "...                  ...          ...         ...       ...        ...   \n",
       "2021-12-12  50098.335938  4134.453125  570.823975  1.347282  20.456585   \n",
       "2021-12-13  46737.480469  3784.226807  521.011597  1.225348  17.775459   \n",
       "2021-12-14  46612.632812  3745.440430  511.229370  1.222835  17.587616   \n",
       "2021-12-15  48896.722656  4018.388672  541.026978  1.311847  19.714485   \n",
       "2021-12-16  47665.425781  3962.469727  526.246521  1.240534  18.786173   \n",
       "\n",
       "                   SOL        DOT        UNI       LUNA        AVAX      ALGO  \\\n",
       "Date                                                                            \n",
       "2021-01-01    1.842084   8.306819   4.736249   0.649443    3.664823  0.398129   \n",
       "2021-01-02    1.799275   9.208837   4.845214   0.631426    3.494940  0.408091   \n",
       "2021-01-03    2.161752  10.033283   5.447031   0.661895    3.472944  0.422767   \n",
       "2021-01-04    2.485097   9.469611   5.406566   0.670244    3.590243  0.438666   \n",
       "2021-01-05    2.157217   9.701656   6.279291   0.716674    4.237412  0.479429   \n",
       "...                ...        ...        ...        ...         ...       ...   \n",
       "2021-12-12  173.431671  29.608980  16.017937  61.919449   88.109116  1.542000   \n",
       "2021-12-13  155.213058  25.971106  14.148139  52.745789   79.149628  1.321398   \n",
       "2021-12-14  153.341446  26.168419  14.979408  57.277336   87.311905  1.323860   \n",
       "2021-12-15  178.340790  27.145760  15.180298  61.527020  101.181450  1.426744   \n",
       "2021-12-16  176.954666  26.043077  14.421512  64.322968   98.401886  1.387747   \n",
       "\n",
       "                 ATOM        EGLD         LTC       CAKE  \n",
       "Date                                                      \n",
       "2021-01-01   5.868556   26.065042  126.230347   0.662068  \n",
       "2021-01-02   5.414613   25.891308  136.944885   0.616939  \n",
       "2021-01-03   5.813898   27.156723  160.190582   0.633083  \n",
       "2021-01-04   5.996770   30.629923  154.807327   0.642997  \n",
       "2021-01-05   6.216816   33.953747  158.594772   0.679435  \n",
       "...               ...         ...         ...        ...  \n",
       "2021-12-12  24.574207  263.071075  159.203964  11.615931  \n",
       "2021-12-13  21.760569  234.254059  144.535904  10.932409  \n",
       "2021-12-14  21.213074  254.483795  146.078003  12.519122  \n",
       "2021-12-15  22.295862  295.935181  153.515411  13.163462  \n",
       "2021-12-16  21.753647  268.112030  148.941727  12.574617  \n",
       "\n",
       "[350 rows x 15 columns]"
      ]
     },
     "execution_count": 3,
     "metadata": {},
     "output_type": "execute_result"
    }
   ],
   "source": [
    "precos"
   ]
  },
  {
   "cell_type": "markdown",
   "metadata": {},
   "source": [
    "# Markowitz Efficient Frontier"
   ]
  },
  {
   "cell_type": "code",
   "execution_count": 4,
   "metadata": {
    "scrolled": true
   },
   "outputs": [],
   "source": [
    "ativo_maior_retorno = variacao_periodo[variacao_periodo == variacao_periodo.max()].index[0]\n",
    "ativo_menor_retorno = variacao_periodo[variacao_periodo == variacao_periodo.min()].index[0]\n",
    "retorno_max = variacao_precos_log[ativo_maior_retorno].mean() * 1.5\n",
    "retorno_min = variacao_precos_log[ativo_menor_retorno].mean() * 0.5"
   ]
  },
  {
   "cell_type": "code",
   "execution_count": 5,
   "metadata": {
    "scrolled": true
   },
   "outputs": [],
   "source": [
    "bounds = [(0,1)] * qtd_ativos\n",
    "initial_guess = [1 / qtd_ativos] * qtd_ativos # pesos iniciais\n",
    "possiveis_retornos = np.linspace(retorno_max, retorno_min, 100) # range entre 0 e variação máxima média diária\n",
    "frontier_x = [] # volatilidade\n",
    "frontier_y = [] # retorno diário médio anualizado das carteiras\n",
    "sharpe_ratio = []\n",
    "pesos = []\n",
    "vol_min = -1;\n",
    "\n",
    "for possivel_retorno in possiveis_retornos:\n",
    "    cons = ({'type': 'eq', 'fun': lambda x: np.sum(x) - 1},\n",
    "            {'type':'eq', 'fun': lambda w: retorno_esperado(w) - possivel_retorno})\n",
    "    resultado = optimize.minimize(volatilidade_carteira, initial_guess, method='SLSQP', bounds=bounds, constraints=cons)\n",
    "    if vol_min == -1 or resultado.fun <= vol_min:\n",
    "        vol_min = resultado.fun\n",
    "        retorno = retorno_esperado(resultado.x)\n",
    "        sharpe_ratio.append( retorno / resultado.fun )\n",
    "        frontier_x.append(resultado.fun)\n",
    "        frontier_y.append(retorno)\n",
    "        pesos.append(resultado.x)"
   ]
  },
  {
   "cell_type": "code",
   "execution_count": 6,
   "metadata": {
    "scrolled": true
   },
   "outputs": [],
   "source": [
    "sr_max_index = sharpe_ratio.index(max(sharpe_ratio))\n",
    "retorno_max_index = frontier_y.index(max(frontier_y))\n",
    "volatilidade_min_index = frontier_x.index(min(frontier_x))"
   ]
  },
  {
   "cell_type": "code",
   "execution_count": 7,
   "metadata": {},
   "outputs": [],
   "source": [
    "legendas = []\n",
    "for x in pesos:\n",
    "    legendas.append( formatar_legenda(simbolos, x) )\n",
    "    \n",
    "carteiras_plot = pd.DataFrame()\n",
    "carteiras_plot['retorno'] = frontier_y\n",
    "carteiras_plot['volatilidade'] = frontier_x\n",
    "carteiras_plot['sharpe_ratio'] = sharpe_ratio\n",
    "carteiras_plot['carteira'] = legendas"
   ]
  },
  {
   "cell_type": "code",
   "execution_count": 10,
   "metadata": {},
   "outputs": [
    {
     "data": {
      "application/vnd.plotly.v1+json": {
       "config": {
        "plotlyServerURL": "https://plot.ly"
       },
       "data": [
        {
         "customdata": [
          [
           "LUNA: 100.00"
          ],
          [
           "LUNA: 100.00"
          ],
          [
           "LUNA: 100.00"
          ],
          [
           "LUNA: 100.00"
          ],
          [
           "LUNA: 100.00"
          ],
          [
           "LUNA: 100.00"
          ],
          [
           "SOL: 66.71 LUNA: 31.69 AVAX: 1.60"
          ],
          [
           "SOL: 63.73 LUNA: 29.33 AVAX: 6.94"
          ],
          [
           "SOL: 61.74 LUNA: 27.80 AVAX: 8.02 EGLD: 2.44"
          ],
          [
           "SOL: 59.62 LUNA: 26.28 AVAX: 8.61 EGLD: 3.07 BNB: 2.41"
          ],
          [
           "SOL: 58.08 LUNA: 25.33 AVAX: 7.09 EGLD: 6.46 BNB: 3.04"
          ],
          [
           "SOL: 56.04 LUNA: 24.26 EGLD: 8.25 AVAX: 6.76 BNB: 4.56 ADA: 0.12"
          ],
          [
           "SOL: 54.42 LUNA: 23.32 EGLD: 9.07 AVAX: 6.05 BNB: 5.28 ADA: 1.86"
          ],
          [
           "SOL: 52.80 LUNA: 22.36 EGLD: 9.94 BNB: 5.98 AVAX: 5.35 ADA: 3.56"
          ],
          [
           "SOL: 51.27 LUNA: 21.34 EGLD: 10.88 BNB: 6.66 ADA: 5.26 AVAX: 4.59"
          ],
          [
           "SOL: 49.32 LUNA: 20.62 EGLD: 11.67 BNB: 7.35 ADA: 6.93 AVAX: 4.11"
          ],
          [
           "SOL: 47.90 LUNA: 19.59 EGLD: 12.66 ADA: 8.81 BNB: 7.78 AVAX: 3.26"
          ],
          [
           "SOL: 46.57 LUNA: 18.22 EGLD: 13.65 ADA: 10.34 BNB: 8.39 AVAX: 2.84"
          ],
          [
           "SOL: 44.91 LUNA: 17.68 EGLD: 15.11 ADA: 12.39 BNB: 8.27 AVAX: 1.64"
          ],
          [
           "SOL: 43.71 LUNA: 16.45 EGLD: 15.39 ADA: 14.55 BNB: 8.81 AVAX: 0.95 ETH: 0.15"
          ],
          [
           "SOL: 42.08 LUNA: 15.99 EGLD: 15.88 ADA: 14.20 BNB: 8.14 ETH: 3.05 AVAX: 0.66"
          ],
          [
           "SOL: 41.08 EGLD: 15.80 LUNA: 14.91 ADA: 14.10 BNB: 8.00 ETH: 4.68 AVAX: 0.76 BTC: 0.67"
          ],
          [
           "SOL: 40.31 EGLD: 15.56 LUNA: 14.38 ADA: 13.85 BNB: 7.51 ETH: 5.16 BTC: 2.57 AVAX: 0.66"
          ],
          [
           "SOL: 39.56 EGLD: 15.41 LUNA: 13.85 ADA: 13.73 BNB: 7.00 ETH: 5.48 BTC: 4.48 AVAX: 0.49"
          ],
          [
           "SOL: 39.01 ADA: 14.60 EGLD: 14.27 LUNA: 13.93 BTC: 8.44 BNB: 7.56 ETH: 2.19"
          ],
          [
           "SOL: 38.34 ADA: 14.39 EGLD: 14.11 LUNA: 13.43 BTC: 10.87 BNB: 7.13 ETH: 1.73"
          ],
          [
           "SOL: 37.66 ADA: 14.15 EGLD: 13.97 BTC: 13.30 LUNA: 12.93 BNB: 6.69 ETH: 1.30"
          ],
          [
           "SOL: 36.86 BTC: 15.78 EGLD: 13.86 ADA: 13.74 LUNA: 12.58 BNB: 6.31 ETH: 0.88"
          ],
          [
           "SOL: 36.34 BTC: 18.24 EGLD: 13.81 ADA: 13.44 LUNA: 11.92 BNB: 5.89 ETH: 0.36"
          ],
          [
           "SOL: 35.54 BTC: 20.53 EGLD: 13.67 ADA: 13.10 LUNA: 11.46 BNB: 5.59 ETH: 0.12"
          ],
          [
           "SOL: 34.77 BTC: 22.72 EGLD: 13.61 ADA: 12.82 LUNA: 10.93 BNB: 5.15"
          ],
          [
           "SOL: 33.94 BTC: 24.86 EGLD: 13.52 ADA: 12.51 LUNA: 10.47 BNB: 4.70"
          ],
          [
           "SOL: 33.31 BTC: 27.04 EGLD: 13.40 ADA: 12.20 LUNA: 9.85 BNB: 4.21"
          ],
          [
           "SOL: 32.45 BTC: 29.16 EGLD: 13.30 ADA: 11.87 LUNA: 9.38 BNB: 3.84"
          ],
          [
           "SOL: 31.99 BTC: 31.51 EGLD: 13.09 ADA: 11.48 LUNA: 8.73 BNB: 3.20"
          ],
          [
           "BTC: 33.71 SOL: 31.24 EGLD: 12.93 ADA: 11.09 LUNA: 8.22 BNB: 2.81"
          ],
          [
           "BTC: 36.04 SOL: 30.55 EGLD: 12.82 ADA: 10.64 LUNA: 7.77 BNB: 2.18"
          ],
          [
           "BTC: 38.38 SOL: 29.90 EGLD: 12.48 ADA: 10.11 LUNA: 7.23 BNB: 1.89"
          ],
          [
           "BTC: 40.52 SOL: 29.13 EGLD: 12.27 ADA: 9.82 LUNA: 6.69 BNB: 1.57"
          ],
          [
           "BTC: 42.67 SOL: 28.45 EGLD: 11.90 ADA: 9.48 LUNA: 6.04 BNB: 1.45"
          ],
          [
           "BTC: 44.78 SOL: 27.79 EGLD: 11.72 ADA: 9.48 LUNA: 5.46 BNB: 0.77"
          ],
          [
           "BTC: 46.97 SOL: 26.80 EGLD: 11.71 ADA: 9.23 LUNA: 5.24"
          ],
          [
           "BTC: 48.98 SOL: 25.71 EGLD: 11.69 ADA: 8.73 LUNA: 4.84"
          ],
          [
           "BTC: 51.21 SOL: 24.91 EGLD: 11.44 ADA: 8.13 LUNA: 4.32"
          ],
          [
           "BTC: 53.42 SOL: 24.21 EGLD: 11.15 ADA: 7.54 LUNA: 3.67"
          ],
          [
           "BTC: 55.60 SOL: 23.81 EGLD: 10.83 ADA: 7.04 LUNA: 2.72"
          ],
          [
           "BTC: 57.65 SOL: 22.75 EGLD: 10.60 ADA: 6.65 LUNA: 2.35"
          ],
          [
           "BTC: 59.75 SOL: 21.73 EGLD: 10.32 ADA: 6.25 LUNA: 1.95"
          ],
          [
           "BTC: 61.91 SOL: 20.69 EGLD: 9.95 ADA: 5.81 LUNA: 1.64"
          ],
          [
           "BTC: 64.08 SOL: 19.76 EGLD: 9.55 ADA: 5.40 LUNA: 1.21"
          ],
          [
           "BTC: 66.21 SOL: 19.00 EGLD: 9.29 ADA: 4.91 LUNA: 0.58"
          ],
          [
           "BTC: 68.17 SOL: 18.11 EGLD: 8.91 ADA: 4.80"
          ],
          [
           "BTC: 70.39 SOL: 16.81 EGLD: 8.35 ADA: 4.45"
          ],
          [
           "BTC: 72.66 SOL: 15.54 EGLD: 7.75 ADA: 4.05"
          ],
          [
           "BTC: 74.96 SOL: 14.29 EGLD: 7.14 ADA: 3.61"
          ],
          [
           "BTC: 77.17 SOL: 12.97 EGLD: 6.63 ADA: 3.23"
          ],
          [
           "BTC: 79.45 SOL: 11.70 EGLD: 6.11 ADA: 2.74"
          ],
          [
           "BTC: 81.73 SOL: 10.42 EGLD: 5.58 ADA: 2.26"
          ],
          [
           "BTC: 84.02 SOL: 9.15 EGLD: 5.04 ADA: 1.79"
          ],
          [
           "BTC: 86.89 SOL: 8.29 EGLD: 3.96 ADA: 0.86"
          ],
          [
           "BTC: 88.86 SOL: 6.82 EGLD: 3.57 ADA: 0.75"
          ],
          [
           "BTC: 90.83 SOL: 5.35 EGLD: 3.19 ADA: 0.63"
          ]
         ],
         "hovertemplate": "<i>Retorno</i>: %{y:.2f}<br><i>Volatilidade</i>: %{x:.2f}<br><i>Carteira</i>: %{customdata}",
         "legendgroup": "",
         "marker": {
          "color": [
           0.1281570429859999,
           0.12815704298597094,
           0.12815704298606337,
           0.12815704298617908,
           0.12815704298608946,
           0.1281570429860201,
           0.16509853826923773,
           0.1657032749196705,
           0.16593706930596913,
           0.16603031986161546,
           0.16607366776401183,
           0.16599108332040866,
           0.165814230777127,
           0.16556032921606392,
           0.16522252239820287,
           0.16479299450487128,
           0.1642687998685317,
           0.16363534465212742,
           0.16289175254761823,
           0.1620318865997964,
           0.1610579191023049,
           0.16000724637085262,
           0.15890974327949492,
           0.15776152502325505,
           0.15660637114047715,
           0.15536185208325895,
           0.15406011770517095,
           0.15269851048097882,
           0.15127496299268137,
           0.14978481587403175,
           0.14822635023155076,
           0.1465956907631412,
           0.14489127075287453,
           0.1431077776763964,
           0.14124573133023924,
           0.13929847085056263,
           0.1372638195359422,
           0.1351397215291251,
           0.132922804508829,
           0.13060810696561082,
           0.12819811971198727,
           0.12568578630180227,
           0.12306299180252915,
           0.12033418071634801,
           0.1174942586834991,
           0.11453920870726238,
           0.11147282948027475,
           0.10828966122017158,
           0.10498903817048733,
           0.10157266652919188,
           0.09804216255157691,
           0.09440121430318403,
           0.09063421699177328,
           0.08674681134040922,
           0.0827435690042559,
           0.07863030320188139,
           0.07441357442038336,
           0.07010122850991671,
           0.06570168792320384,
           0.061219880989387125,
           0.05667723939575102,
           0.052074869503549656
          ],
          "coloraxis": "coloraxis",
          "line": {
           "width": 1
          },
          "symbol": "circle"
         },
         "mode": "markers",
         "name": "",
         "orientation": "v",
         "showlegend": false,
         "type": "scatter",
         "x": [
          0.10274726092974606,
          0.10274726092970408,
          0.1027472609296242,
          0.1027472609295675,
          0.10274726092954546,
          0.10274726092954126,
          0.07904175000183665,
          0.0775637037769119,
          0.07626651553149615,
          0.07503644171458354,
          0.07382992696344438,
          0.07267913952901355,
          0.07156787083688525,
          0.07048701731618132,
          0.06943808851838257,
          0.06842292363921786,
          0.0674412964167373,
          0.06649775567233798,
          0.06559119994358277,
          0.06472274114809619,
          0.06389024678179275,
          0.06307784660264869,
          0.062273053140753924,
          0.06147682222001637,
          0.060671602971248066,
          0.059888845243565754,
          0.05911539206591557,
          0.05835162749875396,
          0.057597693464444995,
          0.056854703457808894,
          0.056122636909054696,
          0.05540228321545176,
          0.05469355248332774,
          0.053997768610693435,
          0.05331405726872114,
          0.052644263129242946,
          0.05198855547095294,
          0.05134707960278526,
          0.050720509608767665,
          0.050110172177997674,
          0.04951458792893292,
          0.04893599822223551,
          0.048377190172914336,
          0.04783615152022321,
          0.04731470717477959,
          0.04681443891501963,
          0.04633390177675276,
          0.04587560271569703,
          0.04544032313382683,
          0.04502804071256773,
          0.04463896338235184,
          0.04427255393436439,
          0.04393776794677814,
          0.04363442850239702,
          0.043363247734538,
          0.04312475072078615,
          0.04291951561591565,
          0.042747851602020756,
          0.04261015728453112,
          0.04250974616176557,
          0.042438974969617994,
          0.04240445167254685
         ],
         "xaxis": "x",
         "y": [
          0.013167785135667213,
          0.01316778513565886,
          0.013167785135658118,
          0.013167785135662741,
          0.013167785135650707,
          0.013167785135643041,
          0.01304967738754575,
          0.012852559730733517,
          0.012655442073474648,
          0.01245832441914977,
          0.012261206761568322,
          0.012064089105216093,
          0.011866971451174909,
          0.011669853792325378,
          0.011472736135516857,
          0.011275618479284856,
          0.011078500823955343,
          0.010881383168035988,
          0.010684265510511435,
          0.010487147854136297,
          0.010290030197608274,
          0.010092912541892858,
          0.00989579488782755,
          0.009698677227013314,
          0.00950155957260295,
          0.00930444191616805,
          0.009107324259862281,
          0.008910206603200653,
          0.008713088947297722,
          0.008515971289000581,
          0.008318853634399699,
          0.008121735977824333,
          0.007924618321298392,
          0.007727500665360612,
          0.007530383009102774,
          0.007333265352958198,
          0.007136147696099205,
          0.006939030038854219,
          0.006741912383314408,
          0.006544794727889095,
          0.006347677070803063,
          0.0061505594150252675,
          0.005953441757678751,
          0.0057563241018091455,
          0.005559206444327564,
          0.005362088789400819,
          0.0051649711319157595,
          0.004967853476354015,
          0.004770735819976623,
          0.004573618163760518,
          0.0043765005040664285,
          0.004179382851707206,
          0.00398226519422247,
          0.0037851475372440093,
          0.0035880298811713884,
          0.0033909122246809677,
          0.003193794569371745,
          0.002996676913461266,
          0.002799559256266894,
          0.0026024416009123442,
          0.0024053239440633245,
          0.002208206287217455
         ],
         "yaxis": "y"
        },
        {
         "customdata": [
          "SOL: 58.08 LUNA: 25.33 AVAX: 7.09 EGLD: 6.46 BNB: 3.04"
         ],
         "hovertemplate": "<i>Retorno</i>: %{y:.2f}<br><i>Volatilidade</i>: %{x:.2f}<br><i>Carteira</i>: %{customdata}",
         "marker": {
          "color": "green",
          "line": {
           "width": 1
          },
          "size": 10,
          "symbol": "star"
         },
         "name": "Carteira com melhor relação retorno/volatilidade",
         "showlegend": false,
         "type": "scatter",
         "x": [
          0.07382992696344438
         ],
         "y": [
          0.012261206761568322
         ]
        },
        {
         "customdata": [
          "LUNA: 100.00"
         ],
         "hovertemplate": "<i>Retorno</i>: %{y:.2f}<br><i>Volatilidade</i>: %{x:.2f}<br><i>Carteira</i>: %{customdata}",
         "marker": {
          "color": "red",
          "line": {
           "width": 1
          },
          "size": 10,
          "symbol": "star"
         },
         "name": "Carteira com maior retorno",
         "showlegend": false,
         "type": "scatter",
         "x": [
          0.10274726092974606
         ],
         "y": [
          0.013167785135667213
         ]
        },
        {
         "customdata": [
          "BTC: 90.83 SOL: 5.35 EGLD: 3.19 ADA: 0.63"
         ],
         "hovertemplate": "<i>Retorno</i>: %{y:.2f}<br><i>Volatilidade</i>: %{x:.2f}<br><i>Carteira</i>: %{customdata}",
         "marker": {
          "color": "blue",
          "line": {
           "width": 1
          },
          "size": 10,
          "symbol": "star"
         },
         "name": "Carteira com menor volatilidade",
         "showlegend": false,
         "type": "scatter",
         "x": [
          0.04240445167254685
         ],
         "y": [
          0.002208206287217455
         ]
        }
       ],
       "layout": {
        "coloraxis": {
         "colorbar": {
          "title": {
           "side": "right",
           "text": "Retorno / volatilidade"
          }
         },
         "colorscale": [
          [
           0,
           "#000004"
          ],
          [
           0.1111111111111111,
           "#1b0c41"
          ],
          [
           0.2222222222222222,
           "#4a0c6b"
          ],
          [
           0.3333333333333333,
           "#781c6d"
          ],
          [
           0.4444444444444444,
           "#a52c60"
          ],
          [
           0.5555555555555556,
           "#cf4446"
          ],
          [
           0.6666666666666666,
           "#ed6925"
          ],
          [
           0.7777777777777778,
           "#fb9b06"
          ],
          [
           0.8888888888888888,
           "#f7d13d"
          ],
          [
           1,
           "#fcffa4"
          ]
         ]
        },
        "font": {
         "size": 11
        },
        "height": 550,
        "legend": {
         "tracegroupgap": 0
        },
        "template": {
         "data": {
          "bar": [
           {
            "error_x": {
             "color": "#2a3f5f"
            },
            "error_y": {
             "color": "#2a3f5f"
            },
            "marker": {
             "line": {
              "color": "white",
              "width": 0.5
             },
             "pattern": {
              "fillmode": "overlay",
              "size": 10,
              "solidity": 0.2
             }
            },
            "type": "bar"
           }
          ],
          "barpolar": [
           {
            "marker": {
             "line": {
              "color": "white",
              "width": 0.5
             },
             "pattern": {
              "fillmode": "overlay",
              "size": 10,
              "solidity": 0.2
             }
            },
            "type": "barpolar"
           }
          ],
          "carpet": [
           {
            "aaxis": {
             "endlinecolor": "#2a3f5f",
             "gridcolor": "#C8D4E3",
             "linecolor": "#C8D4E3",
             "minorgridcolor": "#C8D4E3",
             "startlinecolor": "#2a3f5f"
            },
            "baxis": {
             "endlinecolor": "#2a3f5f",
             "gridcolor": "#C8D4E3",
             "linecolor": "#C8D4E3",
             "minorgridcolor": "#C8D4E3",
             "startlinecolor": "#2a3f5f"
            },
            "type": "carpet"
           }
          ],
          "choropleth": [
           {
            "colorbar": {
             "outlinewidth": 0,
             "ticks": ""
            },
            "type": "choropleth"
           }
          ],
          "contour": [
           {
            "colorbar": {
             "outlinewidth": 0,
             "ticks": ""
            },
            "colorscale": [
             [
              0,
              "#0d0887"
             ],
             [
              0.1111111111111111,
              "#46039f"
             ],
             [
              0.2222222222222222,
              "#7201a8"
             ],
             [
              0.3333333333333333,
              "#9c179e"
             ],
             [
              0.4444444444444444,
              "#bd3786"
             ],
             [
              0.5555555555555556,
              "#d8576b"
             ],
             [
              0.6666666666666666,
              "#ed7953"
             ],
             [
              0.7777777777777778,
              "#fb9f3a"
             ],
             [
              0.8888888888888888,
              "#fdca26"
             ],
             [
              1,
              "#f0f921"
             ]
            ],
            "type": "contour"
           }
          ],
          "contourcarpet": [
           {
            "colorbar": {
             "outlinewidth": 0,
             "ticks": ""
            },
            "type": "contourcarpet"
           }
          ],
          "heatmap": [
           {
            "colorbar": {
             "outlinewidth": 0,
             "ticks": ""
            },
            "colorscale": [
             [
              0,
              "#0d0887"
             ],
             [
              0.1111111111111111,
              "#46039f"
             ],
             [
              0.2222222222222222,
              "#7201a8"
             ],
             [
              0.3333333333333333,
              "#9c179e"
             ],
             [
              0.4444444444444444,
              "#bd3786"
             ],
             [
              0.5555555555555556,
              "#d8576b"
             ],
             [
              0.6666666666666666,
              "#ed7953"
             ],
             [
              0.7777777777777778,
              "#fb9f3a"
             ],
             [
              0.8888888888888888,
              "#fdca26"
             ],
             [
              1,
              "#f0f921"
             ]
            ],
            "type": "heatmap"
           }
          ],
          "heatmapgl": [
           {
            "colorbar": {
             "outlinewidth": 0,
             "ticks": ""
            },
            "colorscale": [
             [
              0,
              "#0d0887"
             ],
             [
              0.1111111111111111,
              "#46039f"
             ],
             [
              0.2222222222222222,
              "#7201a8"
             ],
             [
              0.3333333333333333,
              "#9c179e"
             ],
             [
              0.4444444444444444,
              "#bd3786"
             ],
             [
              0.5555555555555556,
              "#d8576b"
             ],
             [
              0.6666666666666666,
              "#ed7953"
             ],
             [
              0.7777777777777778,
              "#fb9f3a"
             ],
             [
              0.8888888888888888,
              "#fdca26"
             ],
             [
              1,
              "#f0f921"
             ]
            ],
            "type": "heatmapgl"
           }
          ],
          "histogram": [
           {
            "marker": {
             "pattern": {
              "fillmode": "overlay",
              "size": 10,
              "solidity": 0.2
             }
            },
            "type": "histogram"
           }
          ],
          "histogram2d": [
           {
            "colorbar": {
             "outlinewidth": 0,
             "ticks": ""
            },
            "colorscale": [
             [
              0,
              "#0d0887"
             ],
             [
              0.1111111111111111,
              "#46039f"
             ],
             [
              0.2222222222222222,
              "#7201a8"
             ],
             [
              0.3333333333333333,
              "#9c179e"
             ],
             [
              0.4444444444444444,
              "#bd3786"
             ],
             [
              0.5555555555555556,
              "#d8576b"
             ],
             [
              0.6666666666666666,
              "#ed7953"
             ],
             [
              0.7777777777777778,
              "#fb9f3a"
             ],
             [
              0.8888888888888888,
              "#fdca26"
             ],
             [
              1,
              "#f0f921"
             ]
            ],
            "type": "histogram2d"
           }
          ],
          "histogram2dcontour": [
           {
            "colorbar": {
             "outlinewidth": 0,
             "ticks": ""
            },
            "colorscale": [
             [
              0,
              "#0d0887"
             ],
             [
              0.1111111111111111,
              "#46039f"
             ],
             [
              0.2222222222222222,
              "#7201a8"
             ],
             [
              0.3333333333333333,
              "#9c179e"
             ],
             [
              0.4444444444444444,
              "#bd3786"
             ],
             [
              0.5555555555555556,
              "#d8576b"
             ],
             [
              0.6666666666666666,
              "#ed7953"
             ],
             [
              0.7777777777777778,
              "#fb9f3a"
             ],
             [
              0.8888888888888888,
              "#fdca26"
             ],
             [
              1,
              "#f0f921"
             ]
            ],
            "type": "histogram2dcontour"
           }
          ],
          "mesh3d": [
           {
            "colorbar": {
             "outlinewidth": 0,
             "ticks": ""
            },
            "type": "mesh3d"
           }
          ],
          "parcoords": [
           {
            "line": {
             "colorbar": {
              "outlinewidth": 0,
              "ticks": ""
             }
            },
            "type": "parcoords"
           }
          ],
          "pie": [
           {
            "automargin": true,
            "type": "pie"
           }
          ],
          "scatter": [
           {
            "marker": {
             "colorbar": {
              "outlinewidth": 0,
              "ticks": ""
             }
            },
            "type": "scatter"
           }
          ],
          "scatter3d": [
           {
            "line": {
             "colorbar": {
              "outlinewidth": 0,
              "ticks": ""
             }
            },
            "marker": {
             "colorbar": {
              "outlinewidth": 0,
              "ticks": ""
             }
            },
            "type": "scatter3d"
           }
          ],
          "scattercarpet": [
           {
            "marker": {
             "colorbar": {
              "outlinewidth": 0,
              "ticks": ""
             }
            },
            "type": "scattercarpet"
           }
          ],
          "scattergeo": [
           {
            "marker": {
             "colorbar": {
              "outlinewidth": 0,
              "ticks": ""
             }
            },
            "type": "scattergeo"
           }
          ],
          "scattergl": [
           {
            "marker": {
             "colorbar": {
              "outlinewidth": 0,
              "ticks": ""
             }
            },
            "type": "scattergl"
           }
          ],
          "scattermapbox": [
           {
            "marker": {
             "colorbar": {
              "outlinewidth": 0,
              "ticks": ""
             }
            },
            "type": "scattermapbox"
           }
          ],
          "scatterpolar": [
           {
            "marker": {
             "colorbar": {
              "outlinewidth": 0,
              "ticks": ""
             }
            },
            "type": "scatterpolar"
           }
          ],
          "scatterpolargl": [
           {
            "marker": {
             "colorbar": {
              "outlinewidth": 0,
              "ticks": ""
             }
            },
            "type": "scatterpolargl"
           }
          ],
          "scatterternary": [
           {
            "marker": {
             "colorbar": {
              "outlinewidth": 0,
              "ticks": ""
             }
            },
            "type": "scatterternary"
           }
          ],
          "surface": [
           {
            "colorbar": {
             "outlinewidth": 0,
             "ticks": ""
            },
            "colorscale": [
             [
              0,
              "#0d0887"
             ],
             [
              0.1111111111111111,
              "#46039f"
             ],
             [
              0.2222222222222222,
              "#7201a8"
             ],
             [
              0.3333333333333333,
              "#9c179e"
             ],
             [
              0.4444444444444444,
              "#bd3786"
             ],
             [
              0.5555555555555556,
              "#d8576b"
             ],
             [
              0.6666666666666666,
              "#ed7953"
             ],
             [
              0.7777777777777778,
              "#fb9f3a"
             ],
             [
              0.8888888888888888,
              "#fdca26"
             ],
             [
              1,
              "#f0f921"
             ]
            ],
            "type": "surface"
           }
          ],
          "table": [
           {
            "cells": {
             "fill": {
              "color": "#EBF0F8"
             },
             "line": {
              "color": "white"
             }
            },
            "header": {
             "fill": {
              "color": "#C8D4E3"
             },
             "line": {
              "color": "white"
             }
            },
            "type": "table"
           }
          ]
         },
         "layout": {
          "annotationdefaults": {
           "arrowcolor": "#2a3f5f",
           "arrowhead": 0,
           "arrowwidth": 1
          },
          "autotypenumbers": "strict",
          "coloraxis": {
           "colorbar": {
            "outlinewidth": 0,
            "ticks": ""
           }
          },
          "colorscale": {
           "diverging": [
            [
             0,
             "#8e0152"
            ],
            [
             0.1,
             "#c51b7d"
            ],
            [
             0.2,
             "#de77ae"
            ],
            [
             0.3,
             "#f1b6da"
            ],
            [
             0.4,
             "#fde0ef"
            ],
            [
             0.5,
             "#f7f7f7"
            ],
            [
             0.6,
             "#e6f5d0"
            ],
            [
             0.7,
             "#b8e186"
            ],
            [
             0.8,
             "#7fbc41"
            ],
            [
             0.9,
             "#4d9221"
            ],
            [
             1,
             "#276419"
            ]
           ],
           "sequential": [
            [
             0,
             "#0d0887"
            ],
            [
             0.1111111111111111,
             "#46039f"
            ],
            [
             0.2222222222222222,
             "#7201a8"
            ],
            [
             0.3333333333333333,
             "#9c179e"
            ],
            [
             0.4444444444444444,
             "#bd3786"
            ],
            [
             0.5555555555555556,
             "#d8576b"
            ],
            [
             0.6666666666666666,
             "#ed7953"
            ],
            [
             0.7777777777777778,
             "#fb9f3a"
            ],
            [
             0.8888888888888888,
             "#fdca26"
            ],
            [
             1,
             "#f0f921"
            ]
           ],
           "sequentialminus": [
            [
             0,
             "#0d0887"
            ],
            [
             0.1111111111111111,
             "#46039f"
            ],
            [
             0.2222222222222222,
             "#7201a8"
            ],
            [
             0.3333333333333333,
             "#9c179e"
            ],
            [
             0.4444444444444444,
             "#bd3786"
            ],
            [
             0.5555555555555556,
             "#d8576b"
            ],
            [
             0.6666666666666666,
             "#ed7953"
            ],
            [
             0.7777777777777778,
             "#fb9f3a"
            ],
            [
             0.8888888888888888,
             "#fdca26"
            ],
            [
             1,
             "#f0f921"
            ]
           ]
          },
          "colorway": [
           "#636efa",
           "#EF553B",
           "#00cc96",
           "#ab63fa",
           "#FFA15A",
           "#19d3f3",
           "#FF6692",
           "#B6E880",
           "#FF97FF",
           "#FECB52"
          ],
          "font": {
           "color": "#2a3f5f"
          },
          "geo": {
           "bgcolor": "white",
           "lakecolor": "white",
           "landcolor": "white",
           "showlakes": true,
           "showland": true,
           "subunitcolor": "#C8D4E3"
          },
          "hoverlabel": {
           "align": "left"
          },
          "hovermode": "closest",
          "mapbox": {
           "style": "light"
          },
          "paper_bgcolor": "white",
          "plot_bgcolor": "white",
          "polar": {
           "angularaxis": {
            "gridcolor": "#EBF0F8",
            "linecolor": "#EBF0F8",
            "ticks": ""
           },
           "bgcolor": "white",
           "radialaxis": {
            "gridcolor": "#EBF0F8",
            "linecolor": "#EBF0F8",
            "ticks": ""
           }
          },
          "scene": {
           "xaxis": {
            "backgroundcolor": "white",
            "gridcolor": "#DFE8F3",
            "gridwidth": 2,
            "linecolor": "#EBF0F8",
            "showbackground": true,
            "ticks": "",
            "zerolinecolor": "#EBF0F8"
           },
           "yaxis": {
            "backgroundcolor": "white",
            "gridcolor": "#DFE8F3",
            "gridwidth": 2,
            "linecolor": "#EBF0F8",
            "showbackground": true,
            "ticks": "",
            "zerolinecolor": "#EBF0F8"
           },
           "zaxis": {
            "backgroundcolor": "white",
            "gridcolor": "#DFE8F3",
            "gridwidth": 2,
            "linecolor": "#EBF0F8",
            "showbackground": true,
            "ticks": "",
            "zerolinecolor": "#EBF0F8"
           }
          },
          "shapedefaults": {
           "line": {
            "color": "#2a3f5f"
           }
          },
          "ternary": {
           "aaxis": {
            "gridcolor": "#DFE8F3",
            "linecolor": "#A2B1C6",
            "ticks": ""
           },
           "baxis": {
            "gridcolor": "#DFE8F3",
            "linecolor": "#A2B1C6",
            "ticks": ""
           },
           "bgcolor": "white",
           "caxis": {
            "gridcolor": "#DFE8F3",
            "linecolor": "#A2B1C6",
            "ticks": ""
           }
          },
          "title": {
           "x": 0.05
          },
          "xaxis": {
           "automargin": true,
           "gridcolor": "#EBF0F8",
           "linecolor": "#EBF0F8",
           "ticks": "",
           "title": {
            "standoff": 15
           },
           "zerolinecolor": "#EBF0F8",
           "zerolinewidth": 2
          },
          "yaxis": {
           "automargin": true,
           "gridcolor": "#EBF0F8",
           "linecolor": "#EBF0F8",
           "ticks": "",
           "title": {
            "standoff": 15
           },
           "zerolinecolor": "#EBF0F8",
           "zerolinewidth": 2
          }
         }
        },
        "title": {
         "text": "Carteiras com melhor relação risco/retorno"
        },
        "width": 800,
        "xaxis": {
         "anchor": "y",
         "domain": [
          0,
          1
         ],
         "title": {
          "text": "sdsd"
         }
        },
        "yaxis": {
         "anchor": "x",
         "domain": [
          0,
          1
         ],
         "title": {
          "text": "retorno"
         }
        }
       }
      },
      "text/html": [
       "<div>                            <div id=\"954c3aa7-a056-4bd9-a50b-12c2f590a51f\" class=\"plotly-graph-div\" style=\"height:550px; width:800px;\"></div>            <script type=\"text/javascript\">                require([\"plotly\"], function(Plotly) {                    window.PLOTLYENV=window.PLOTLYENV || {};                                    if (document.getElementById(\"954c3aa7-a056-4bd9-a50b-12c2f590a51f\")) {                    Plotly.newPlot(                        \"954c3aa7-a056-4bd9-a50b-12c2f590a51f\",                        [{\"customdata\":[[\"LUNA: 100.00\"],[\"LUNA: 100.00\"],[\"LUNA: 100.00\"],[\"LUNA: 100.00\"],[\"LUNA: 100.00\"],[\"LUNA: 100.00\"],[\"SOL: 66.71 LUNA: 31.69 AVAX: 1.60\"],[\"SOL: 63.73 LUNA: 29.33 AVAX: 6.94\"],[\"SOL: 61.74 LUNA: 27.80 AVAX: 8.02 EGLD: 2.44\"],[\"SOL: 59.62 LUNA: 26.28 AVAX: 8.61 EGLD: 3.07 BNB: 2.41\"],[\"SOL: 58.08 LUNA: 25.33 AVAX: 7.09 EGLD: 6.46 BNB: 3.04\"],[\"SOL: 56.04 LUNA: 24.26 EGLD: 8.25 AVAX: 6.76 BNB: 4.56 ADA: 0.12\"],[\"SOL: 54.42 LUNA: 23.32 EGLD: 9.07 AVAX: 6.05 BNB: 5.28 ADA: 1.86\"],[\"SOL: 52.80 LUNA: 22.36 EGLD: 9.94 BNB: 5.98 AVAX: 5.35 ADA: 3.56\"],[\"SOL: 51.27 LUNA: 21.34 EGLD: 10.88 BNB: 6.66 ADA: 5.26 AVAX: 4.59\"],[\"SOL: 49.32 LUNA: 20.62 EGLD: 11.67 BNB: 7.35 ADA: 6.93 AVAX: 4.11\"],[\"SOL: 47.90 LUNA: 19.59 EGLD: 12.66 ADA: 8.81 BNB: 7.78 AVAX: 3.26\"],[\"SOL: 46.57 LUNA: 18.22 EGLD: 13.65 ADA: 10.34 BNB: 8.39 AVAX: 2.84\"],[\"SOL: 44.91 LUNA: 17.68 EGLD: 15.11 ADA: 12.39 BNB: 8.27 AVAX: 1.64\"],[\"SOL: 43.71 LUNA: 16.45 EGLD: 15.39 ADA: 14.55 BNB: 8.81 AVAX: 0.95 ETH: 0.15\"],[\"SOL: 42.08 LUNA: 15.99 EGLD: 15.88 ADA: 14.20 BNB: 8.14 ETH: 3.05 AVAX: 0.66\"],[\"SOL: 41.08 EGLD: 15.80 LUNA: 14.91 ADA: 14.10 BNB: 8.00 ETH: 4.68 AVAX: 0.76 BTC: 0.67\"],[\"SOL: 40.31 EGLD: 15.56 LUNA: 14.38 ADA: 13.85 BNB: 7.51 ETH: 5.16 BTC: 2.57 AVAX: 0.66\"],[\"SOL: 39.56 EGLD: 15.41 LUNA: 13.85 ADA: 13.73 BNB: 7.00 ETH: 5.48 BTC: 4.48 AVAX: 0.49\"],[\"SOL: 39.01 ADA: 14.60 EGLD: 14.27 LUNA: 13.93 BTC: 8.44 BNB: 7.56 ETH: 2.19\"],[\"SOL: 38.34 ADA: 14.39 EGLD: 14.11 LUNA: 13.43 BTC: 10.87 BNB: 7.13 ETH: 1.73\"],[\"SOL: 37.66 ADA: 14.15 EGLD: 13.97 BTC: 13.30 LUNA: 12.93 BNB: 6.69 ETH: 1.30\"],[\"SOL: 36.86 BTC: 15.78 EGLD: 13.86 ADA: 13.74 LUNA: 12.58 BNB: 6.31 ETH: 0.88\"],[\"SOL: 36.34 BTC: 18.24 EGLD: 13.81 ADA: 13.44 LUNA: 11.92 BNB: 5.89 ETH: 0.36\"],[\"SOL: 35.54 BTC: 20.53 EGLD: 13.67 ADA: 13.10 LUNA: 11.46 BNB: 5.59 ETH: 0.12\"],[\"SOL: 34.77 BTC: 22.72 EGLD: 13.61 ADA: 12.82 LUNA: 10.93 BNB: 5.15\"],[\"SOL: 33.94 BTC: 24.86 EGLD: 13.52 ADA: 12.51 LUNA: 10.47 BNB: 4.70\"],[\"SOL: 33.31 BTC: 27.04 EGLD: 13.40 ADA: 12.20 LUNA: 9.85 BNB: 4.21\"],[\"SOL: 32.45 BTC: 29.16 EGLD: 13.30 ADA: 11.87 LUNA: 9.38 BNB: 3.84\"],[\"SOL: 31.99 BTC: 31.51 EGLD: 13.09 ADA: 11.48 LUNA: 8.73 BNB: 3.20\"],[\"BTC: 33.71 SOL: 31.24 EGLD: 12.93 ADA: 11.09 LUNA: 8.22 BNB: 2.81\"],[\"BTC: 36.04 SOL: 30.55 EGLD: 12.82 ADA: 10.64 LUNA: 7.77 BNB: 2.18\"],[\"BTC: 38.38 SOL: 29.90 EGLD: 12.48 ADA: 10.11 LUNA: 7.23 BNB: 1.89\"],[\"BTC: 40.52 SOL: 29.13 EGLD: 12.27 ADA: 9.82 LUNA: 6.69 BNB: 1.57\"],[\"BTC: 42.67 SOL: 28.45 EGLD: 11.90 ADA: 9.48 LUNA: 6.04 BNB: 1.45\"],[\"BTC: 44.78 SOL: 27.79 EGLD: 11.72 ADA: 9.48 LUNA: 5.46 BNB: 0.77\"],[\"BTC: 46.97 SOL: 26.80 EGLD: 11.71 ADA: 9.23 LUNA: 5.24\"],[\"BTC: 48.98 SOL: 25.71 EGLD: 11.69 ADA: 8.73 LUNA: 4.84\"],[\"BTC: 51.21 SOL: 24.91 EGLD: 11.44 ADA: 8.13 LUNA: 4.32\"],[\"BTC: 53.42 SOL: 24.21 EGLD: 11.15 ADA: 7.54 LUNA: 3.67\"],[\"BTC: 55.60 SOL: 23.81 EGLD: 10.83 ADA: 7.04 LUNA: 2.72\"],[\"BTC: 57.65 SOL: 22.75 EGLD: 10.60 ADA: 6.65 LUNA: 2.35\"],[\"BTC: 59.75 SOL: 21.73 EGLD: 10.32 ADA: 6.25 LUNA: 1.95\"],[\"BTC: 61.91 SOL: 20.69 EGLD: 9.95 ADA: 5.81 LUNA: 1.64\"],[\"BTC: 64.08 SOL: 19.76 EGLD: 9.55 ADA: 5.40 LUNA: 1.21\"],[\"BTC: 66.21 SOL: 19.00 EGLD: 9.29 ADA: 4.91 LUNA: 0.58\"],[\"BTC: 68.17 SOL: 18.11 EGLD: 8.91 ADA: 4.80\"],[\"BTC: 70.39 SOL: 16.81 EGLD: 8.35 ADA: 4.45\"],[\"BTC: 72.66 SOL: 15.54 EGLD: 7.75 ADA: 4.05\"],[\"BTC: 74.96 SOL: 14.29 EGLD: 7.14 ADA: 3.61\"],[\"BTC: 77.17 SOL: 12.97 EGLD: 6.63 ADA: 3.23\"],[\"BTC: 79.45 SOL: 11.70 EGLD: 6.11 ADA: 2.74\"],[\"BTC: 81.73 SOL: 10.42 EGLD: 5.58 ADA: 2.26\"],[\"BTC: 84.02 SOL: 9.15 EGLD: 5.04 ADA: 1.79\"],[\"BTC: 86.89 SOL: 8.29 EGLD: 3.96 ADA: 0.86\"],[\"BTC: 88.86 SOL: 6.82 EGLD: 3.57 ADA: 0.75\"],[\"BTC: 90.83 SOL: 5.35 EGLD: 3.19 ADA: 0.63\"]],\"hovertemplate\":\"<i>Retorno</i>: %{y:.2f}<br><i>Volatilidade</i>: %{x:.2f}<br><i>Carteira</i>: %{customdata}\",\"legendgroup\":\"\",\"marker\":{\"color\":[0.1281570429859999,0.12815704298597094,0.12815704298606337,0.12815704298617908,0.12815704298608946,0.1281570429860201,0.16509853826923773,0.1657032749196705,0.16593706930596913,0.16603031986161546,0.16607366776401183,0.16599108332040866,0.165814230777127,0.16556032921606392,0.16522252239820287,0.16479299450487128,0.1642687998685317,0.16363534465212742,0.16289175254761823,0.1620318865997964,0.1610579191023049,0.16000724637085262,0.15890974327949492,0.15776152502325505,0.15660637114047715,0.15536185208325895,0.15406011770517095,0.15269851048097882,0.15127496299268137,0.14978481587403175,0.14822635023155076,0.1465956907631412,0.14489127075287453,0.1431077776763964,0.14124573133023924,0.13929847085056263,0.1372638195359422,0.1351397215291251,0.132922804508829,0.13060810696561082,0.12819811971198727,0.12568578630180227,0.12306299180252915,0.12033418071634801,0.1174942586834991,0.11453920870726238,0.11147282948027475,0.10828966122017158,0.10498903817048733,0.10157266652919188,0.09804216255157691,0.09440121430318403,0.09063421699177328,0.08674681134040922,0.0827435690042559,0.07863030320188139,0.07441357442038336,0.07010122850991671,0.06570168792320384,0.061219880989387125,0.05667723939575102,0.052074869503549656],\"coloraxis\":\"coloraxis\",\"symbol\":\"circle\",\"line\":{\"width\":1}},\"mode\":\"markers\",\"name\":\"\",\"orientation\":\"v\",\"showlegend\":false,\"x\":[0.10274726092974606,0.10274726092970408,0.1027472609296242,0.1027472609295675,0.10274726092954546,0.10274726092954126,0.07904175000183665,0.0775637037769119,0.07626651553149615,0.07503644171458354,0.07382992696344438,0.07267913952901355,0.07156787083688525,0.07048701731618132,0.06943808851838257,0.06842292363921786,0.0674412964167373,0.06649775567233798,0.06559119994358277,0.06472274114809619,0.06389024678179275,0.06307784660264869,0.062273053140753924,0.06147682222001637,0.060671602971248066,0.059888845243565754,0.05911539206591557,0.05835162749875396,0.057597693464444995,0.056854703457808894,0.056122636909054696,0.05540228321545176,0.05469355248332774,0.053997768610693435,0.05331405726872114,0.052644263129242946,0.05198855547095294,0.05134707960278526,0.050720509608767665,0.050110172177997674,0.04951458792893292,0.04893599822223551,0.048377190172914336,0.04783615152022321,0.04731470717477959,0.04681443891501963,0.04633390177675276,0.04587560271569703,0.04544032313382683,0.04502804071256773,0.04463896338235184,0.04427255393436439,0.04393776794677814,0.04363442850239702,0.043363247734538,0.04312475072078615,0.04291951561591565,0.042747851602020756,0.04261015728453112,0.04250974616176557,0.042438974969617994,0.04240445167254685],\"xaxis\":\"x\",\"y\":[0.013167785135667213,0.01316778513565886,0.013167785135658118,0.013167785135662741,0.013167785135650707,0.013167785135643041,0.01304967738754575,0.012852559730733517,0.012655442073474648,0.01245832441914977,0.012261206761568322,0.012064089105216093,0.011866971451174909,0.011669853792325378,0.011472736135516857,0.011275618479284856,0.011078500823955343,0.010881383168035988,0.010684265510511435,0.010487147854136297,0.010290030197608274,0.010092912541892858,0.00989579488782755,0.009698677227013314,0.00950155957260295,0.00930444191616805,0.009107324259862281,0.008910206603200653,0.008713088947297722,0.008515971289000581,0.008318853634399699,0.008121735977824333,0.007924618321298392,0.007727500665360612,0.007530383009102774,0.007333265352958198,0.007136147696099205,0.006939030038854219,0.006741912383314408,0.006544794727889095,0.006347677070803063,0.0061505594150252675,0.005953441757678751,0.0057563241018091455,0.005559206444327564,0.005362088789400819,0.0051649711319157595,0.004967853476354015,0.004770735819976623,0.004573618163760518,0.0043765005040664285,0.004179382851707206,0.00398226519422247,0.0037851475372440093,0.0035880298811713884,0.0033909122246809677,0.003193794569371745,0.002996676913461266,0.002799559256266894,0.0026024416009123442,0.0024053239440633245,0.002208206287217455],\"yaxis\":\"y\",\"type\":\"scatter\"},{\"customdata\":[\"SOL: 58.08 LUNA: 25.33 AVAX: 7.09 EGLD: 6.46 BNB: 3.04\"],\"marker\":{\"color\":\"green\",\"size\":10,\"symbol\":\"star\",\"line\":{\"width\":1}},\"name\":\"Carteira com melhor rela\\u00e7\\u00e3o retorno/volatilidade\",\"showlegend\":false,\"x\":[0.07382992696344438],\"y\":[0.012261206761568322],\"type\":\"scatter\",\"hovertemplate\":\"<i>Retorno</i>: %{y:.2f}<br><i>Volatilidade</i>: %{x:.2f}<br><i>Carteira</i>: %{customdata}\"},{\"customdata\":[\"LUNA: 100.00\"],\"marker\":{\"color\":\"red\",\"size\":10,\"symbol\":\"star\",\"line\":{\"width\":1}},\"name\":\"Carteira com maior retorno\",\"showlegend\":false,\"x\":[0.10274726092974606],\"y\":[0.013167785135667213],\"type\":\"scatter\",\"hovertemplate\":\"<i>Retorno</i>: %{y:.2f}<br><i>Volatilidade</i>: %{x:.2f}<br><i>Carteira</i>: %{customdata}\"},{\"customdata\":[\"BTC: 90.83 SOL: 5.35 EGLD: 3.19 ADA: 0.63\"],\"marker\":{\"color\":\"blue\",\"size\":10,\"symbol\":\"star\",\"line\":{\"width\":1}},\"name\":\"Carteira com menor volatilidade\",\"showlegend\":false,\"x\":[0.04240445167254685],\"y\":[0.002208206287217455],\"type\":\"scatter\",\"hovertemplate\":\"<i>Retorno</i>: %{y:.2f}<br><i>Volatilidade</i>: %{x:.2f}<br><i>Carteira</i>: %{customdata}\"}],                        {\"template\":{\"data\":{\"barpolar\":[{\"marker\":{\"line\":{\"color\":\"white\",\"width\":0.5},\"pattern\":{\"fillmode\":\"overlay\",\"size\":10,\"solidity\":0.2}},\"type\":\"barpolar\"}],\"bar\":[{\"error_x\":{\"color\":\"#2a3f5f\"},\"error_y\":{\"color\":\"#2a3f5f\"},\"marker\":{\"line\":{\"color\":\"white\",\"width\":0.5},\"pattern\":{\"fillmode\":\"overlay\",\"size\":10,\"solidity\":0.2}},\"type\":\"bar\"}],\"carpet\":[{\"aaxis\":{\"endlinecolor\":\"#2a3f5f\",\"gridcolor\":\"#C8D4E3\",\"linecolor\":\"#C8D4E3\",\"minorgridcolor\":\"#C8D4E3\",\"startlinecolor\":\"#2a3f5f\"},\"baxis\":{\"endlinecolor\":\"#2a3f5f\",\"gridcolor\":\"#C8D4E3\",\"linecolor\":\"#C8D4E3\",\"minorgridcolor\":\"#C8D4E3\",\"startlinecolor\":\"#2a3f5f\"},\"type\":\"carpet\"}],\"choropleth\":[{\"colorbar\":{\"outlinewidth\":0,\"ticks\":\"\"},\"type\":\"choropleth\"}],\"contourcarpet\":[{\"colorbar\":{\"outlinewidth\":0,\"ticks\":\"\"},\"type\":\"contourcarpet\"}],\"contour\":[{\"colorbar\":{\"outlinewidth\":0,\"ticks\":\"\"},\"colorscale\":[[0.0,\"#0d0887\"],[0.1111111111111111,\"#46039f\"],[0.2222222222222222,\"#7201a8\"],[0.3333333333333333,\"#9c179e\"],[0.4444444444444444,\"#bd3786\"],[0.5555555555555556,\"#d8576b\"],[0.6666666666666666,\"#ed7953\"],[0.7777777777777778,\"#fb9f3a\"],[0.8888888888888888,\"#fdca26\"],[1.0,\"#f0f921\"]],\"type\":\"contour\"}],\"heatmapgl\":[{\"colorbar\":{\"outlinewidth\":0,\"ticks\":\"\"},\"colorscale\":[[0.0,\"#0d0887\"],[0.1111111111111111,\"#46039f\"],[0.2222222222222222,\"#7201a8\"],[0.3333333333333333,\"#9c179e\"],[0.4444444444444444,\"#bd3786\"],[0.5555555555555556,\"#d8576b\"],[0.6666666666666666,\"#ed7953\"],[0.7777777777777778,\"#fb9f3a\"],[0.8888888888888888,\"#fdca26\"],[1.0,\"#f0f921\"]],\"type\":\"heatmapgl\"}],\"heatmap\":[{\"colorbar\":{\"outlinewidth\":0,\"ticks\":\"\"},\"colorscale\":[[0.0,\"#0d0887\"],[0.1111111111111111,\"#46039f\"],[0.2222222222222222,\"#7201a8\"],[0.3333333333333333,\"#9c179e\"],[0.4444444444444444,\"#bd3786\"],[0.5555555555555556,\"#d8576b\"],[0.6666666666666666,\"#ed7953\"],[0.7777777777777778,\"#fb9f3a\"],[0.8888888888888888,\"#fdca26\"],[1.0,\"#f0f921\"]],\"type\":\"heatmap\"}],\"histogram2dcontour\":[{\"colorbar\":{\"outlinewidth\":0,\"ticks\":\"\"},\"colorscale\":[[0.0,\"#0d0887\"],[0.1111111111111111,\"#46039f\"],[0.2222222222222222,\"#7201a8\"],[0.3333333333333333,\"#9c179e\"],[0.4444444444444444,\"#bd3786\"],[0.5555555555555556,\"#d8576b\"],[0.6666666666666666,\"#ed7953\"],[0.7777777777777778,\"#fb9f3a\"],[0.8888888888888888,\"#fdca26\"],[1.0,\"#f0f921\"]],\"type\":\"histogram2dcontour\"}],\"histogram2d\":[{\"colorbar\":{\"outlinewidth\":0,\"ticks\":\"\"},\"colorscale\":[[0.0,\"#0d0887\"],[0.1111111111111111,\"#46039f\"],[0.2222222222222222,\"#7201a8\"],[0.3333333333333333,\"#9c179e\"],[0.4444444444444444,\"#bd3786\"],[0.5555555555555556,\"#d8576b\"],[0.6666666666666666,\"#ed7953\"],[0.7777777777777778,\"#fb9f3a\"],[0.8888888888888888,\"#fdca26\"],[1.0,\"#f0f921\"]],\"type\":\"histogram2d\"}],\"histogram\":[{\"marker\":{\"pattern\":{\"fillmode\":\"overlay\",\"size\":10,\"solidity\":0.2}},\"type\":\"histogram\"}],\"mesh3d\":[{\"colorbar\":{\"outlinewidth\":0,\"ticks\":\"\"},\"type\":\"mesh3d\"}],\"parcoords\":[{\"line\":{\"colorbar\":{\"outlinewidth\":0,\"ticks\":\"\"}},\"type\":\"parcoords\"}],\"pie\":[{\"automargin\":true,\"type\":\"pie\"}],\"scatter3d\":[{\"line\":{\"colorbar\":{\"outlinewidth\":0,\"ticks\":\"\"}},\"marker\":{\"colorbar\":{\"outlinewidth\":0,\"ticks\":\"\"}},\"type\":\"scatter3d\"}],\"scattercarpet\":[{\"marker\":{\"colorbar\":{\"outlinewidth\":0,\"ticks\":\"\"}},\"type\":\"scattercarpet\"}],\"scattergeo\":[{\"marker\":{\"colorbar\":{\"outlinewidth\":0,\"ticks\":\"\"}},\"type\":\"scattergeo\"}],\"scattergl\":[{\"marker\":{\"colorbar\":{\"outlinewidth\":0,\"ticks\":\"\"}},\"type\":\"scattergl\"}],\"scattermapbox\":[{\"marker\":{\"colorbar\":{\"outlinewidth\":0,\"ticks\":\"\"}},\"type\":\"scattermapbox\"}],\"scatterpolargl\":[{\"marker\":{\"colorbar\":{\"outlinewidth\":0,\"ticks\":\"\"}},\"type\":\"scatterpolargl\"}],\"scatterpolar\":[{\"marker\":{\"colorbar\":{\"outlinewidth\":0,\"ticks\":\"\"}},\"type\":\"scatterpolar\"}],\"scatter\":[{\"marker\":{\"colorbar\":{\"outlinewidth\":0,\"ticks\":\"\"}},\"type\":\"scatter\"}],\"scatterternary\":[{\"marker\":{\"colorbar\":{\"outlinewidth\":0,\"ticks\":\"\"}},\"type\":\"scatterternary\"}],\"surface\":[{\"colorbar\":{\"outlinewidth\":0,\"ticks\":\"\"},\"colorscale\":[[0.0,\"#0d0887\"],[0.1111111111111111,\"#46039f\"],[0.2222222222222222,\"#7201a8\"],[0.3333333333333333,\"#9c179e\"],[0.4444444444444444,\"#bd3786\"],[0.5555555555555556,\"#d8576b\"],[0.6666666666666666,\"#ed7953\"],[0.7777777777777778,\"#fb9f3a\"],[0.8888888888888888,\"#fdca26\"],[1.0,\"#f0f921\"]],\"type\":\"surface\"}],\"table\":[{\"cells\":{\"fill\":{\"color\":\"#EBF0F8\"},\"line\":{\"color\":\"white\"}},\"header\":{\"fill\":{\"color\":\"#C8D4E3\"},\"line\":{\"color\":\"white\"}},\"type\":\"table\"}]},\"layout\":{\"annotationdefaults\":{\"arrowcolor\":\"#2a3f5f\",\"arrowhead\":0,\"arrowwidth\":1},\"autotypenumbers\":\"strict\",\"coloraxis\":{\"colorbar\":{\"outlinewidth\":0,\"ticks\":\"\"}},\"colorscale\":{\"diverging\":[[0,\"#8e0152\"],[0.1,\"#c51b7d\"],[0.2,\"#de77ae\"],[0.3,\"#f1b6da\"],[0.4,\"#fde0ef\"],[0.5,\"#f7f7f7\"],[0.6,\"#e6f5d0\"],[0.7,\"#b8e186\"],[0.8,\"#7fbc41\"],[0.9,\"#4d9221\"],[1,\"#276419\"]],\"sequential\":[[0.0,\"#0d0887\"],[0.1111111111111111,\"#46039f\"],[0.2222222222222222,\"#7201a8\"],[0.3333333333333333,\"#9c179e\"],[0.4444444444444444,\"#bd3786\"],[0.5555555555555556,\"#d8576b\"],[0.6666666666666666,\"#ed7953\"],[0.7777777777777778,\"#fb9f3a\"],[0.8888888888888888,\"#fdca26\"],[1.0,\"#f0f921\"]],\"sequentialminus\":[[0.0,\"#0d0887\"],[0.1111111111111111,\"#46039f\"],[0.2222222222222222,\"#7201a8\"],[0.3333333333333333,\"#9c179e\"],[0.4444444444444444,\"#bd3786\"],[0.5555555555555556,\"#d8576b\"],[0.6666666666666666,\"#ed7953\"],[0.7777777777777778,\"#fb9f3a\"],[0.8888888888888888,\"#fdca26\"],[1.0,\"#f0f921\"]]},\"colorway\":[\"#636efa\",\"#EF553B\",\"#00cc96\",\"#ab63fa\",\"#FFA15A\",\"#19d3f3\",\"#FF6692\",\"#B6E880\",\"#FF97FF\",\"#FECB52\"],\"font\":{\"color\":\"#2a3f5f\"},\"geo\":{\"bgcolor\":\"white\",\"lakecolor\":\"white\",\"landcolor\":\"white\",\"showlakes\":true,\"showland\":true,\"subunitcolor\":\"#C8D4E3\"},\"hoverlabel\":{\"align\":\"left\"},\"hovermode\":\"closest\",\"mapbox\":{\"style\":\"light\"},\"paper_bgcolor\":\"white\",\"plot_bgcolor\":\"white\",\"polar\":{\"angularaxis\":{\"gridcolor\":\"#EBF0F8\",\"linecolor\":\"#EBF0F8\",\"ticks\":\"\"},\"bgcolor\":\"white\",\"radialaxis\":{\"gridcolor\":\"#EBF0F8\",\"linecolor\":\"#EBF0F8\",\"ticks\":\"\"}},\"scene\":{\"xaxis\":{\"backgroundcolor\":\"white\",\"gridcolor\":\"#DFE8F3\",\"gridwidth\":2,\"linecolor\":\"#EBF0F8\",\"showbackground\":true,\"ticks\":\"\",\"zerolinecolor\":\"#EBF0F8\"},\"yaxis\":{\"backgroundcolor\":\"white\",\"gridcolor\":\"#DFE8F3\",\"gridwidth\":2,\"linecolor\":\"#EBF0F8\",\"showbackground\":true,\"ticks\":\"\",\"zerolinecolor\":\"#EBF0F8\"},\"zaxis\":{\"backgroundcolor\":\"white\",\"gridcolor\":\"#DFE8F3\",\"gridwidth\":2,\"linecolor\":\"#EBF0F8\",\"showbackground\":true,\"ticks\":\"\",\"zerolinecolor\":\"#EBF0F8\"}},\"shapedefaults\":{\"line\":{\"color\":\"#2a3f5f\"}},\"ternary\":{\"aaxis\":{\"gridcolor\":\"#DFE8F3\",\"linecolor\":\"#A2B1C6\",\"ticks\":\"\"},\"baxis\":{\"gridcolor\":\"#DFE8F3\",\"linecolor\":\"#A2B1C6\",\"ticks\":\"\"},\"bgcolor\":\"white\",\"caxis\":{\"gridcolor\":\"#DFE8F3\",\"linecolor\":\"#A2B1C6\",\"ticks\":\"\"}},\"title\":{\"x\":0.05},\"xaxis\":{\"automargin\":true,\"gridcolor\":\"#EBF0F8\",\"linecolor\":\"#EBF0F8\",\"ticks\":\"\",\"title\":{\"standoff\":15},\"zerolinecolor\":\"#EBF0F8\",\"zerolinewidth\":2},\"yaxis\":{\"automargin\":true,\"gridcolor\":\"#EBF0F8\",\"linecolor\":\"#EBF0F8\",\"ticks\":\"\",\"title\":{\"standoff\":15},\"zerolinecolor\":\"#EBF0F8\",\"zerolinewidth\":2}}},\"xaxis\":{\"anchor\":\"y\",\"domain\":[0.0,1.0],\"title\":{\"text\":\"sdsd\"}},\"yaxis\":{\"anchor\":\"x\",\"domain\":[0.0,1.0],\"title\":{\"text\":\"retorno\"}},\"coloraxis\":{\"colorbar\":{\"title\":{\"text\":\"Retorno / volatilidade\",\"side\":\"right\"}},\"colorscale\":[[0.0,\"#000004\"],[0.1111111111111111,\"#1b0c41\"],[0.2222222222222222,\"#4a0c6b\"],[0.3333333333333333,\"#781c6d\"],[0.4444444444444444,\"#a52c60\"],[0.5555555555555556,\"#cf4446\"],[0.6666666666666666,\"#ed6925\"],[0.7777777777777778,\"#fb9b06\"],[0.8888888888888888,\"#f7d13d\"],[1.0,\"#fcffa4\"]]},\"legend\":{\"tracegroupgap\":0},\"title\":{\"text\":\"Carteiras com melhor rela\\u00e7\\u00e3o risco/retorno\"},\"height\":550,\"width\":800,\"font\":{\"size\":11}},                        {\"responsive\": true}                    ).then(function(){\n",
       "                            \n",
       "var gd = document.getElementById('954c3aa7-a056-4bd9-a50b-12c2f590a51f');\n",
       "var x = new MutationObserver(function (mutations, observer) {{\n",
       "        var display = window.getComputedStyle(gd).display;\n",
       "        if (!display || display === 'none') {{\n",
       "            console.log([gd, 'removed!']);\n",
       "            Plotly.purge(gd);\n",
       "            observer.disconnect();\n",
       "        }}\n",
       "}});\n",
       "\n",
       "// Listen for the removal of the full notebook cells\n",
       "var notebookContainer = gd.closest('#notebook-container');\n",
       "if (notebookContainer) {{\n",
       "    x.observe(notebookContainer, {childList: true});\n",
       "}}\n",
       "\n",
       "// Listen for the clearing of the current output cell\n",
       "var outputEl = gd.closest('.output');\n",
       "if (outputEl) {{\n",
       "    x.observe(outputEl, {childList: true});\n",
       "}}\n",
       "\n",
       "                        })                };                });            </script>        </div>"
      ]
     },
     "metadata": {},
     "output_type": "display_data"
    }
   ],
   "source": [
    "fig = px.scatter(carteiras_plot,\n",
    "                 x='volatilidade',\n",
    "                 y='retorno',\n",
    "                 color='sharpe_ratio',\n",
    "                 title='Carteiras com melhor relação risco/retorno',\n",
    "                 width=800,\n",
    "                 height=550,\n",
    "                 template='plotly_white',\n",
    "                 labels={\"sharpe_ratio\": \"Retorno / volatilidade\", \n",
    "                         'volatilidade': 'Volatilidade',\n",
    "                         'retorno': 'Retorno diário médio (log)'},\n",
    "                 color_continuous_scale=px.colors.sequential.Inferno,\n",
    "                 hover_data=['carteira'])\n",
    "\n",
    "fig.add_trace(go.Scatter(x=[frontier_x[sr_max_index]], y=[frontier_y[sr_max_index]], \n",
    "                         customdata=[legendas[sr_max_index]],\n",
    "                         marker_symbol = 'star', marker_color='green', marker_size=10,\n",
    "                         showlegend=False,\n",
    "                         name='Carteira com melhor relação retorno/volatilidade'))\n",
    "\n",
    "fig.add_trace(go.Scatter(x=[frontier_x[retorno_max_index]], y=[frontier_y[retorno_max_index]], \n",
    "                         customdata=[legendas[retorno_max_index]],\n",
    "                         marker_symbol = 'star', marker_size=10, marker_color='red', \n",
    "                         showlegend=False,\n",
    "                         name='Carteira com maior retorno'))\n",
    "\n",
    "fig.add_trace(go.Scatter(x=[frontier_x[volatilidade_min_index]], y=[frontier_y[volatilidade_min_index]], \n",
    "                         customdata=[legendas[volatilidade_min_index]],\n",
    "                         marker_symbol = 'star', marker_size=10, marker_color='blue', \n",
    "                         showlegend=False,\n",
    "                         name='Carteira com menor volatilidade'))\n",
    "\n",
    "fig.update_traces(marker=dict(line=dict(width=1)),\n",
    "                  hovertemplate ='<i>Retorno</i>: %{y:.2f}<br>'+ \n",
    "                                 '<i>Volatilidade</i>: %{x:.2f}<br>' +\n",
    "                                 '<i>Carteira</i>: %{customdata}')\n",
    "\n",
    "fig.update_layout(coloraxis_colorbar=dict(titleside=\"right\"), font=dict(size=11))\n",
    "\n",
    "fig.show()"
   ]
  },
  {
   "cell_type": "code",
   "execution_count": null,
   "metadata": {},
   "outputs": [],
   "source": [
    "# variacao_periodo.sort_values(ascending=False)"
   ]
  },
  {
   "cell_type": "markdown",
   "metadata": {},
   "source": [
    "### Carteira com menor volatilidade"
   ]
  },
  {
   "cell_type": "code",
   "execution_count": null,
   "metadata": {
    "scrolled": false
   },
   "outputs": [],
   "source": [
    "display( formatar_resultado(simbolos, pesos[volatilidade_min_index]) )\n",
    "\n",
    "lucro = sum(variacao_periodo * pesos[volatilidade_min_index]) * 100\n",
    "print(\"\\nRentabilidade do BTC no período: \" + \"%.2f\" % (variacao_periodo['BTC'] * 100) + \"%\")\n",
    "print(\"Rentabilidade da carteira no período: \" + \"%.2f\" % lucro + \"%\")\n",
    "print(\"Volatilidade da carteira no período: \" + \"%.3f\" % frontier_x[volatilidade_min_index])"
   ]
  },
  {
   "cell_type": "markdown",
   "metadata": {},
   "source": [
    "### Carteira com maior retorno"
   ]
  },
  {
   "cell_type": "code",
   "execution_count": null,
   "metadata": {
    "scrolled": true
   },
   "outputs": [],
   "source": [
    "display( formatar_resultado(simbolos, pesos[retorno_max_index]) )\n",
    "\n",
    "lucro = sum(variacao_periodo * pesos[retorno_max_index]) * 100\n",
    "print(\"\\nRentabilidade do BTC no período: \" + \"%.2f\" % (variacao_periodo['BTC'] * 100) + \"%\")\n",
    "print(\"Rentabilidade da carteira no período: \" + \"%.2f\" % lucro + \"%\")\n",
    "print(\"Volatilidade da carteira no período: \" + \"%.3f\" % frontier_x[retorno_max_index])"
   ]
  },
  {
   "cell_type": "markdown",
   "metadata": {},
   "source": [
    "### Carteira com maior sharpe ratio (retorno / volatilidade)"
   ]
  },
  {
   "cell_type": "code",
   "execution_count": null,
   "metadata": {
    "scrolled": true
   },
   "outputs": [],
   "source": [
    "display( formatar_resultado(simbolos, pesos[sr_max_index]) )\n",
    "\n",
    "lucro = sum(variacao_periodo * pesos[sr_max_index]) * 100\n",
    "print(\"\\nRentabilidade do BTC no período: \" + \"%.2f\" % (variacao_periodo['BTC'] * 100) + \"%\")\n",
    "print(\"Rentabilidade da carteira no período: \" + \"%.2f\" % lucro + \"%\")\n",
    "print(\"Volatilidade da carteira no período: \" + \"%.3f\" % frontier_x[sr_max_index])"
   ]
  },
  {
   "cell_type": "markdown",
   "metadata": {},
   "source": [
    "### Frequência dos ativos nas carteiras"
   ]
  },
  {
   "cell_type": "code",
   "execution_count": null,
   "metadata": {},
   "outputs": [],
   "source": [
    "carteiras = pd.DataFrame(columns=simbolos, data=pesos)\n",
    "carteiras['sharpe_ratio'] = sharpe_ratio\n",
    "carteiras['volatilidade'] = frontier_x\n",
    "carteiras['retorno'] = frontier_y"
   ]
  },
  {
   "cell_type": "code",
   "execution_count": null,
   "metadata": {},
   "outputs": [],
   "source": [
    "soma_pesos = pd.DataFrame(columns=[\"pesos\"], data=carteiras.sum())\n",
    "soma_pesos = soma_pesos[0:-3]\n",
    "soma_pesos = soma_pesos.sort_values(by='pesos', ascending=False)\n",
    "soma_pesos = soma_pesos.applymap(lambda x: \"%.2f\" % x)\n",
    "soma_pesos"
   ]
  },
  {
   "cell_type": "markdown",
   "metadata": {},
   "source": [
    "### Moedas com maiores retornos"
   ]
  },
  {
   "cell_type": "code",
   "execution_count": null,
   "metadata": {},
   "outputs": [],
   "source": [
    "retornos_ativos = variacao_periodo * 100\n",
    "retornos_ativos = retornos_ativos.sort_values(ascending=False)\n",
    "retornos_ativos = retornos_ativos.apply(lambda x: \"%.2f\" % x + \"%\")\n",
    "\n",
    "retornos_ativos"
   ]
  },
  {
   "cell_type": "markdown",
   "metadata": {},
   "source": [
    "### Moedas com menor volatilidade"
   ]
  },
  {
   "cell_type": "code",
   "execution_count": null,
   "metadata": {},
   "outputs": [],
   "source": [
    "volatilidade_ativos = variacao_precos.std()\n",
    "volatilidade_ativos = volatilidade_ativos.sort_values(ascending=True)\n",
    "volatilidade_ativos"
   ]
  }
 ],
 "metadata": {
  "interpreter": {
   "hash": "d54a0f1886b4fdc0520b654c2c129f4425c2e04bdfebdb360ad8766591ef06b3"
  },
  "kernelspec": {
   "display_name": "Python 3 (ipykernel)",
   "language": "python",
   "name": "python3"
  },
  "language_info": {
   "codemirror_mode": {
    "name": "ipython",
    "version": 3
   },
   "file_extension": ".py",
   "mimetype": "text/x-python",
   "name": "python",
   "nbconvert_exporter": "python",
   "pygments_lexer": "ipython3",
   "version": "3.9.6"
  }
 },
 "nbformat": 4,
 "nbformat_minor": 2
}
