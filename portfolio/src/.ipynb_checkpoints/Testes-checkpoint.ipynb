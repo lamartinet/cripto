{
 "cells": [
  {
   "cell_type": "markdown",
   "id": "ae74e3eb",
   "metadata": {},
   "source": [
    "# Variáveis Globais"
   ]
  },
  {
   "cell_type": "code",
   "execution_count": 2,
   "id": "74369593",
   "metadata": {},
   "outputs": [
    {
     "name": "stdout",
     "output_type": "stream",
     "text": [
      "5\n",
      "42\n"
     ]
    }
   ],
   "source": [
    "myGlobal = 5\n",
    "def func1():\n",
    "    myGlobal = 42\n",
    "\n",
    "func1()\n",
    "print(myGlobal)\n",
    "\n",
    "def func2():\n",
    "    global myGlobal\n",
    "    myGlobal = 42\n",
    "\n",
    "func2()\n",
    "print(myGlobal)"
   ]
  },
  {
   "cell_type": "code",
   "execution_count": 4,
   "id": "0a7ed4ca",
   "metadata": {},
   "outputs": [],
   "source": [
    "import re\n",
    "\n",
    "with open('teste.html', 'r') as f:\n",
    "    lines = f.readlines()\n",
    "\n",
    "    tokens = re.findall(r\"p=\\S+\\\"\", lines[0])\n",
    "resultado = []\n",
    "for i in range(len(tokens)):\n",
    "    tokens[i] = tokens[i].replace('p=', '')\n",
    "    tokens[i] = tokens[i].replace('\"', '')\n",
    "    if tokens[i] not in resultado:\n",
    "        resultado.append(tokens[i])\n",
    "        \n",
    "resultado  "
   ]
  },
  {
   "cell_type": "code",
   "execution_count": 53,
   "id": "9661ce9b",
   "metadata": {},
   "outputs": [
    {
     "data": {
      "text/plain": [
       "['BTC-USD',\n",
       " 'ETH-USD',\n",
       " 'BNB-USD',\n",
       " 'USDT-USD',\n",
       " 'SOL-USD',\n",
       " 'HEX-USD',\n",
       " 'ADA-USD',\n",
       " 'USDC-USD',\n",
       " 'XRP-USD',\n",
       " 'LUNA1-USD',\n",
       " 'DOT-USD',\n",
       " 'AVAX-USD',\n",
       " 'DOGE-USD',\n",
       " 'SHIB-USD',\n",
       " 'MATIC-USD',\n",
       " 'CRO-USD',\n",
       " 'UNI1-USD',\n",
       " 'LTC-USD',\n",
       " 'LINK-USD',\n",
       " 'ALGO-USD',\n",
       " 'DAI-USD',\n",
       " 'BCH-USD',\n",
       " 'TRX-USD',\n",
       " 'XLM-USD',\n",
       " 'MANA-USD',\n",
       " 'ATOM-USD',\n",
       " 'AXS-USD',\n",
       " 'FTM-USD',\n",
       " 'VET-USD',\n",
       " 'FTT-USD',\n",
       " 'SAND-USD',\n",
       " 'HBAR-USD',\n",
       " 'FIL-USD',\n",
       " 'THETA-USD',\n",
       " 'EGLD-USD',\n",
       " 'ICP-USD',\n",
       " 'ETC-USD',\n",
       " 'MIOTA-USD',\n",
       " 'XTZ-USD',\n",
       " 'HNT-USD',\n",
       " 'XMR-USD',\n",
       " 'AAVE-USD',\n",
       " 'GRT1-USD',\n",
       " 'CAKE-USD',\n",
       " 'EOS-USD',\n",
       " 'STX-USD',\n",
       " 'FLOW-USD',\n",
       " 'LRC-USD',\n",
       " 'ONE1-USD',\n",
       " 'BTT-USD']"
      ]
     },
     "execution_count": 53,
     "metadata": {},
     "output_type": "execute_result"
    }
   ],
   "source": [
    "      "
   ]
  }
 ],
 "metadata": {
  "kernelspec": {
   "display_name": "Python 3 (ipykernel)",
   "language": "python",
   "name": "python3"
  },
  "language_info": {
   "codemirror_mode": {
    "name": "ipython",
    "version": 3
   },
   "file_extension": ".py",
   "mimetype": "text/x-python",
   "name": "python",
   "nbconvert_exporter": "python",
   "pygments_lexer": "ipython3",
   "version": "3.9.6"
  }
 },
 "nbformat": 4,
 "nbformat_minor": 5
}
