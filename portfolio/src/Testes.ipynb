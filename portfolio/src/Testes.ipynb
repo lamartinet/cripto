{
 "cells": [
  {
   "cell_type": "markdown",
   "id": "ae74e3eb",
   "metadata": {},
   "source": [
    "# Variáveis Globais"
   ]
  },
  {
   "cell_type": "code",
   "execution_count": 5,
   "id": "22e6bb03",
   "metadata": {},
   "outputs": [],
   "source": [
    "myGlobal = 5"
   ]
  },
  {
   "cell_type": "code",
   "execution_count": 6,
   "id": "74369593",
   "metadata": {},
   "outputs": [
    {
     "name": "stdout",
     "output_type": "stream",
     "text": [
      "5\n"
     ]
    }
   ],
   "source": [
    "def func1():\n",
    "    myGlobal = 42\n",
    "\n",
    "func1()\n",
    "print(myGlobal)"
   ]
  },
  {
   "cell_type": "code",
   "execution_count": 7,
   "id": "32e2c6e2",
   "metadata": {},
   "outputs": [
    {
     "name": "stdout",
     "output_type": "stream",
     "text": [
      "42\n"
     ]
    }
   ],
   "source": [
    "def func2():\n",
    "    global myGlobal\n",
    "    myGlobal = 42\n",
    "\n",
    "func2()\n",
    "print(myGlobal)"
   ]
  }
 ],
 "metadata": {
  "kernelspec": {
   "display_name": "Python 3 (ipykernel)",
   "language": "python",
   "name": "python3"
  },
  "language_info": {
   "codemirror_mode": {
    "name": "ipython",
    "version": 3
   },
   "file_extension": ".py",
   "mimetype": "text/x-python",
   "name": "python",
   "nbconvert_exporter": "python",
   "pygments_lexer": "ipython3",
   "version": "3.9.6"
  }
 },
 "nbformat": 4,
 "nbformat_minor": 5
}
